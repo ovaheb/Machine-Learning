{
 "cells": [
  {
   "cell_type": "markdown",
   "metadata": {},
   "source": [
    "![alt text](1.png \"Title\")"
   ]
  },
  {
   "cell_type": "code",
   "execution_count": 17,
   "metadata": {},
   "outputs": [],
   "source": [
    "import pandas as pd\n",
    "\n",
    "star_dataset = pd.read_csv('star_dataset.csv')\n",
    "\n",
    "star_dataset = star_dataset[(star_dataset['Spectral Class'] == 'B') | (star_dataset['Spectral Class'] == 'O')]\n",
    "\n",
    "star_dataset_2features = star_dataset[['Temperature (K)','Absolute magnitude(Mv)']]\n",
    "\n",
    "X_features = star_dataset_2features.to_numpy()"
   ]
  },
  {
   "cell_type": "markdown",
   "metadata": {},
   "source": [
    "### <font color=blue>1. Maximum Likelihood</font> ###\n",
    "\n",
    "__Report Mean and Covariance values for each class__"
   ]
  },
  {
   "cell_type": "code",
   "execution_count": 18,
   "metadata": {},
   "outputs": [
    {
     "name": "stdout",
     "output_type": "stream",
     "text": [
      "X0 Covariance: [[ 3.75467284e+07 -2.67843319e+04]\n",
      " [-2.67843319e+04  7.51544584e+01]]\n",
      "\n",
      "\n",
      "X1 Covariance: [[ 1.09342188e+08 -6.18115637e+02]\n",
      " [-6.18115637e+02  2.23654314e+00]]\n"
     ]
    }
   ],
   "source": [
    "from sklearn.covariance import empirical_covariance\n",
    "\n",
    "X0 = star_dataset[(star_dataset['Spectral Class'] == 'B')]\n",
    "X0 = X0[['Temperature (K)', 'Absolute magnitude(Mv)']].to_numpy()\n",
    "print('X0 Covariance:', empirical_covariance(X0))\n",
    "print('\\n')\n",
    "\n",
    "X1 = star_dataset[(star_dataset['Spectral Class'] == 'O')]\n",
    "X1 = X1[['Temperature (K)', 'Absolute magnitude(Mv)']].to_numpy()\n",
    "print(\"X1 Covariance:\", empirical_covariance(X1))"
   ]
  },
  {
   "cell_type": "code",
   "execution_count": 19,
   "metadata": {},
   "outputs": [
    {
     "name": "stdout",
     "output_type": "stream",
     "text": [
      "X0:\n",
      "μ = \n",
      "[1.95744783e+04 3.72260870e+00]\n",
      "Σ = \n",
      "[[ 3.75467284e+07 -2.67843319e+04]\n",
      " [-2.67843319e+04  7.51544584e+01]]\n",
      "X1:\n",
      "μ = \n",
      "[ 2.2294075e+04 -6.5961750e+00]\n",
      "Σ = \n",
      "[[ 1.09342188e+08 -6.18115637e+02]\n",
      " [-6.18115637e+02  2.23654314e+00]]\n"
     ]
    }
   ],
   "source": [
    "from sklearn.covariance import EmpiricalCovariance\n",
    "\n",
    "print('X0:')\n",
    "cov = EmpiricalCovariance().fit(X0)\n",
    "print('\\u03BC = ', cov.location_, sep=\"\\n\")\n",
    "print('\\u03A3 = ', cov.covariance_, sep=\"\\n\")\n",
    "\n",
    "print('X1:')\n",
    "cov = EmpiricalCovariance().fit(X1)\n",
    "print('\\u03BC = ', cov.location_, sep=\"\\n\")\n",
    "print('\\u03A3 = ', cov.covariance_, sep=\"\\n\")"
   ]
  },
  {
   "cell_type": "code",
   "execution_count": 20,
   "metadata": {},
   "outputs": [
    {
     "name": "stdout",
     "output_type": "stream",
     "text": [
      "X0:\n",
      "μ = \n",
      "[[1.95744783e+04 3.72260870e+00]]\n",
      "Σ = \n",
      "[[[ 3.75467284e+07 -2.67843319e+04]\n",
      "  [-2.67843319e+04  7.51544594e+01]]]\n",
      "X1:\n",
      "μ = \n",
      "[[ 2.2294075e+04 -6.5961750e+00]]\n",
      "Σ = \n",
      "[[[ 1.09342188e+08 -6.18115637e+02]\n",
      "  [-6.18115637e+02  2.23654414e+00]]]\n"
     ]
    }
   ],
   "source": [
    "from sklearn import mixture\n",
    "\n",
    "print('X0:')\n",
    "gmm = mixture.GaussianMixture(n_components=1, covariance_type='full').fit(X0)\n",
    "print('\\u03BC = ', gmm.means_, sep=\"\\n\")\n",
    "print('\\u03A3 = ', gmm.covariances_, sep=\"\\n\")\n",
    "\n",
    "print('X1:')\n",
    "gmm = mixture.GaussianMixture(n_components=1, covariance_type='full').fit(X1)\n",
    "print('\\u03BC = ', gmm.means_, sep=\"\\n\")\n",
    "print('\\u03A3 = ', gmm.covariances_, sep=\"\\n\")"
   ]
  },
  {
   "cell_type": "markdown",
   "metadata": {},
   "source": [
    "### <font color=blue>2. Bayesian Density Estimation</font> ###\n",
    "__1. Report Mean and Covariance values for each class__<br>"
   ]
  },
  {
   "cell_type": "code",
   "execution_count": 21,
   "metadata": {},
   "outputs": [
    {
     "name": "stdout",
     "output_type": "stream",
     "text": [
      "μ = \n",
      "[[ 2.23633663e+04 -5.98818981e+00]\n",
      " [ 1.69991199e+04  1.12995209e+01]]\n",
      "Σ = \n",
      "[[[ 8.50458320e+07 -1.97807006e+03]\n",
      "  [-1.97807006e+03  5.75523032e+00]]\n",
      "\n",
      " [[ 1.72474777e+07 -4.40575303e+03]\n",
      "  [-4.40575303e+03  9.39782146e+00]]]\n"
     ]
    }
   ],
   "source": [
    "from sklearn.mixture import BayesianGaussianMixture\n",
    "\n",
    "BDE = BayesianGaussianMixture(n_components=2, covariance_type='full').fit(X_features)\n",
    "\n",
    "print('\\u03BC = ', BDE.means_, sep=\"\\n\")\n",
    "print('\\u03A3 = ', BDE.covariances_, sep=\"\\n\")"
   ]
  },
  {
   "cell_type": "markdown",
   "metadata": {},
   "source": [
    "### <font color=blue>3. Expectation Maximization</font> ###\n",
    "__1. Report Mean and Covariance values for each class__<br>\n",
    "__2. Plot the Clusters__"
   ]
  },
  {
   "cell_type": "code",
   "execution_count": 22,
   "metadata": {
    "scrolled": true
   },
   "outputs": [
    {
     "name": "stdout",
     "output_type": "stream",
     "text": [
      "Converged: True\n",
      "μ = \n",
      "[[ 1.68391667e+04  1.18154167e+01]\n",
      " [ 2.23878871e+04 -6.06737097e+00]]\n",
      "Σ = \n",
      "[[[ 1.49760780e+07 -1.80027465e+03]\n",
      "  [-1.80027465e+03  6.74842493e-01]]\n",
      "\n",
      " [[ 8.65636517e+07 -1.56714093e+03]\n",
      "  [-1.56714093e+03  4.44045265e+00]]]\n"
     ]
    }
   ],
   "source": [
    "from sklearn.mixture import GaussianMixture\n",
    "\n",
    "GMM = GaussianMixture(n_components=2, covariance_type='full').fit(X_features)\n",
    "print('Converged:', GMM.converged_)\n",
    "means = GMM.means_\n",
    "covariances = GMM.covariances_\n",
    "\n",
    "print('\\u03BC = ', means, sep=\"\\n\")\n",
    "print('\\u03A3 = ', covariances, sep=\"\\n\")"
   ]
  },
  {
   "cell_type": "code",
   "execution_count": 23,
   "metadata": {},
   "outputs": [
    {
     "data": {
      "image/png": "[encoded data removed]",
      "text/plain": [
       "<Figure size 720x432 with 1 Axes>"
      ]
     },
     "metadata": {
      "needs_background": "light"
     },
     "output_type": "display_data"
    }
   ],
   "source": [
    "import numpy as np\n",
    "import matplotlib.pyplot as plt\n",
    "from scipy.stats import multivariate_normal\n",
    "\n",
    "x,y = np.meshgrid(np.sort(X_features[:,0]), np.sort(X_features[:,1]))\n",
    "XY = np.array([x.flatten(), y.flatten()]).T\n",
    "\n",
    "fig = plt.figure(figsize = (10,6))\n",
    "ax0 = fig.add_subplot(111)\n",
    "ax0.scatter(X_features[:,0], X_features[:,1])\n",
    "for m,c in zip(means, covariances):\n",
    "    multi_normal = multivariate_normal(mean = m, cov = c)\n",
    "    ax0.contour(np.sort(X_features[:,0]), np.sort(X_features[:,1]), multi_normal.pdf(XY).reshape(len(X_features), len(X_features)))\n",
    "    ax0.scatter(m[0] ,m[1], c = 'red', zorder = 10, s = 100)\n",
    "plt.show()    "
   ]
  },
  {
   "cell_type": "markdown",
   "metadata": {},
   "source": [
    "### <font color=blue>4. Gaussian HMM</font><br> ###\n",
    "\n",
    "__1. Write the Transition Matrix and Emission Matrix__<br><br>\n",
    "__2. What is the probability of <font color=green>Sunny, Rainy, Rainy, Rainy, Snowy, Snowy</font>? (No need to code!)__<br><br>\n",
    "__3. Suppose that a man wore <font color=green>Coat, Coat, Umbrella, Umbrella, T-shirt, Umbrella, Coat</font>. What is the most likely weather condition in these 7 consecutive days?__"
   ]
  },
  {
   "cell_type": "code",
   "execution_count": 24,
   "metadata": {},
   "outputs": [
    {
     "name": "stdout",
     "output_type": "stream",
     "text": [
      "Requirement already up-to-date: hmmlearn in c:\\users\\asus\\appdata\\roaming\\python\\python38\\site-packages (0.2.4.post4+g4ea11b0)\n",
      "Requirement already satisfied, skipping upgrade: scikit-learn>=0.16 in c:\\users\\asus\\anaconda3\\lib\\site-packages (from hmmlearn) (0.23.1)\n",
      "Requirement already satisfied, skipping upgrade: scipy>=0.19 in c:\\users\\asus\\anaconda3\\lib\\site-packages (from hmmlearn) (1.5.0)\n",
      "Requirement already satisfied, skipping upgrade: numpy>=1.10 in c:\\users\\asus\\anaconda3\\lib\\site-packages (from hmmlearn) (1.18.5)\n",
      "Requirement already satisfied, skipping upgrade: joblib>=0.11 in c:\\users\\asus\\anaconda3\\lib\\site-packages (from scikit-learn>=0.16->hmmlearn) (0.16.0)\n",
      "Requirement already satisfied, skipping upgrade: threadpoolctl>=2.0.0 in c:\\users\\asus\\anaconda3\\lib\\site-packages (from scikit-learn>=0.16->hmmlearn) (2.1.0)\n",
      "Note: you may need to restart the kernel to use updated packages.\n"
     ]
    }
   ],
   "source": [
    "pip install --upgrade --user hmmlearn"
   ]
  },
  {
   "cell_type": "code",
   "execution_count": 25,
   "metadata": {},
   "outputs": [
    {
     "name": "stdout",
     "output_type": "stream",
     "text": [
      "Collecting git+https://github.com/hmmlearn/hmmlearn\n",
      "  Cloning https://github.com/hmmlearn/hmmlearn to c:\\users\\asus\\appdata\\local\\temp\\pip-req-build-8tu3f_9m\n",
      "Requirement already satisfied (use --upgrade to upgrade): hmmlearn==0.2.4.post4+g4ea11b0 from git+https://github.com/hmmlearn/hmmlearn in c:\\users\\asus\\appdata\\roaming\\python\\python38\\site-packages\n",
      "Requirement already satisfied: numpy>=1.10 in c:\\users\\asus\\anaconda3\\lib\\site-packages (from hmmlearn==0.2.4.post4+g4ea11b0) (1.18.5)\n",
      "Requirement already satisfied: scikit-learn>=0.16 in c:\\users\\asus\\anaconda3\\lib\\site-packages (from hmmlearn==0.2.4.post4+g4ea11b0) (0.23.1)\n",
      "Requirement already satisfied: scipy>=0.19 in c:\\users\\asus\\anaconda3\\lib\\site-packages (from hmmlearn==0.2.4.post4+g4ea11b0) (1.5.0)\n",
      "Requirement already satisfied: threadpoolctl>=2.0.0 in c:\\users\\asus\\anaconda3\\lib\\site-packages (from scikit-learn>=0.16->hmmlearn==0.2.4.post4+g4ea11b0) (2.1.0)\n",
      "Requirement already satisfied: joblib>=0.11 in c:\\users\\asus\\anaconda3\\lib\\site-packages (from scikit-learn>=0.16->hmmlearn==0.2.4.post4+g4ea11b0) (0.16.0)\n",
      "Building wheels for collected packages: hmmlearn\n",
      "  Building wheel for hmmlearn (setup.py): started\n",
      "  Building wheel for hmmlearn (setup.py): finished with status 'done'\n",
      "  Created wheel for hmmlearn: filename=hmmlearn-0.2.4.post4+g4ea11b0-cp38-cp38-win_amd64.whl size=110896 sha256=54dda58efa9aee3be621bfc78fe451d90d2bd52a9acd269e2deb1d4a4abbaa46\n",
      "  Stored in directory: C:\\Users\\Asus\\AppData\\Local\\Temp\\pip-ephem-wheel-cache-12paphmq\\wheels\\6e\\5c\\0a\\3723e3e0ece849baa8834f15296140af48ebef347142bf045d\n",
      "Successfully built hmmlearn\n",
      "Note: you may need to restart the kernel to use updated packages.\n"
     ]
    },
    {
     "name": "stderr",
     "output_type": "stream",
     "text": [
      "  Running command git clone -q https://github.com/hmmlearn/hmmlearn 'C:\\Users\\Asus\\AppData\\Local\\Temp\\pip-req-build-8tu3f_9m'\n"
     ]
    }
   ],
   "source": [
    "pip install --user git+https://github.com/hmmlearn/hmmlearn"
   ]
  },
  {
   "cell_type": "code",
   "execution_count": 26,
   "metadata": {},
   "outputs": [],
   "source": [
    "import numpy as np\n",
    "from hmmlearn import hmm\n",
    "\n",
    "states = [\"Sunny\", \"Rainy\", \"Snowy\"]\n",
    "n_states = len(states)\n",
    "\n",
    "observations = [\"T-shirt\", \"Coat\", \"Umbrella\"]\n",
    "n_observations = len(observations)"
   ]
  },
  {
   "cell_type": "code",
   "execution_count": 27,
   "metadata": {},
   "outputs": [],
   "source": [
    "model = hmm.MultinomialHMM(n_components = n_states, init_params = \"\", params = \"\")\n",
    "\n",
    "model.startprob_ = np.array([0.7 , 0.25 , 0.05])\n",
    "\n",
    "model.transmat_ = np.array([\n",
    "    [0.8, 0.15, 0.05] ,\n",
    "    [0.38, 0.6, 0.02], \n",
    "    [0.75, 0.05, 0.2]])\n",
    "\n",
    "model.emissionprob_ = np.array([\n",
    "    [0.6 , 0.3, 0.1],\n",
    "    [0.05, 0.3, 0.65],\n",
    "    [0, 0.5, 0.5]])"
   ]
  },
  {
   "cell_type": "markdown",
   "metadata": {},
   "source": [
    "P(Sunny) * P(Rainy|Sunny) * P(Rainy|Rainy) * P(Rainy|Rainy) * P(Snowy|Rainy) * P(Snowy|Snowy) = 0.7 * 0.15 * 0.6 * 0.6 * 0.02 * 0.2 = 0.000151"
   ]
  },
  {
   "cell_type": "code",
   "execution_count": 28,
   "metadata": {},
   "outputs": [
    {
     "name": "stdout",
     "output_type": "stream",
     "text": [
      "Observations:  [[1 1 2 2 0 2 1]]\n",
      "States: [1 1 1 1 0 0 0]\n",
      "Clothes are: Coat, Coat, Umbrella, Umbrella, T-shirt, Umbrella, Coat\n",
      "States are: Rainy, Rainy, Rainy, Rainy, Sunny, Sunny, Sunny\n"
     ]
    }
   ],
   "source": [
    "sto = np.array([[1, 1, 2, 2, 0, 2, 1]]).T\n",
    "\n",
    "model = model.fit(sto)\n",
    "logprob , hs = model.decode(sto, algorithm = \"viterbi\")\n",
    "print(\"Observations: \" , sto.T)\n",
    "print(\"States:\" , hs)\n",
    "\n",
    "print(\"Clothes are:\", \", \".join(map(lambda x : observations[int(x)] ,sto)))\n",
    "print(\"States are:\", \", \".join(map(lambda x : states[int(x)], hs)))"
   ]
  }
 ],
 "metadata": {
  "kernelspec": {
   "display_name": "Python 3",
   "language": "python",
   "name": "python3"
  },
  "language_info": {
   "codemirror_mode": {
    "name": "ipython",
    "version": 3
   },
   "file_extension": ".py",
   "mimetype": "text/x-python",
   "name": "python",
   "nbconvert_exporter": "python",
   "pygments_lexer": "ipython3",
   "version": "3.8.3"
  }
 },
 "nbformat": 4,
 "nbformat_minor": 2
}
