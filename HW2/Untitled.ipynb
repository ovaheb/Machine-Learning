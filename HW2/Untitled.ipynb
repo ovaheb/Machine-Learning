{
 "cells": [
  {
   "cell_type": "code",
   "execution_count": 1,
   "metadata": {},
   "outputs": [
    {
     "name": "stderr",
     "output_type": "stream",
     "text": [
      "D:\\Anacondaaa\\lib\\site-packages\\sklearn\\linear_model\\logistic.py:432: FutureWarning: Default solver will be changed to 'lbfgs' in 0.22. Specify a solver to silence this warning.\n",
      "  FutureWarning)\n"
     ]
    },
    {
     "name": "stdout",
     "output_type": "stream",
     "text": [
      "The accuracy with out normalizing of the model is: 81.2%\n"
     ]
    },
    {
     "data": {
      "text/plain": [
       "<Figure size 640x480 with 1 Axes>"
      ]
     },
     "metadata": {},
     "output_type": "display_data"
    }
   ],
   "source": [
    "from sklearn.linear_model import LogisticRegression\n",
    "import pandas as pd\n",
    "import numpy as np\n",
    "import matplotlib.pyplot as plt\n",
    "\n",
    "PATH_TO_DATA = 'quality_test.csv'\n",
    "Data = pd.read_csv(PATH_TO_DATA)\n",
    "data = pd.read_csv(PATH_TO_DATA)\n",
    "X1 = Data[Data.columns[0]]\n",
    "X2 = Data[Data.columns[1]]\n",
    "X = Data[Data.columns[0:2]]\n",
    "Y = Data[Data.columns[2]]\n",
    "\n",
    "new_x = []\n",
    "i=1\n",
    "\n",
    "while (i<7):\n",
    "    j=0\n",
    "    k=i\n",
    "    while (j<=i) :\n",
    "        new_x.append( ((X1)**k) * ((X2)**j) )\n",
    "        j=j+1\n",
    "        k=k-1\n",
    "    i=i+1\n",
    "\n",
    "\n",
    "new_x=np.transpose(new_x)\n",
    "\n",
    "def my_plot(b,n,xx,yy):\n",
    "    Z = [] \n",
    "    for q1 in range(len(xx)):\n",
    "        for q2 in range(len(xx[q1])):\n",
    "            i = 1\n",
    "            z = 0\n",
    "            l=0\n",
    "            while (i < 7):\n",
    "                j = 0\n",
    "                k = i\n",
    "                while (j <= i):\n",
    "                    z = z + n[0][l]*( ((xx[q1][q2])**k) * ((yy[q1][q2])**j) )\n",
    "                    j = j+1\n",
    "                    k = k-1\n",
    "                    l = l+1\n",
    "                i = i+1\n",
    "\n",
    "            Z.append(z+b)\n",
    "\n",
    "    return Z\n",
    "\n",
    "new_x = np.asarray(new_x, dtype=np.float32)\n",
    "clf = LogisticRegression(random_state=10).fit(new_x, Y)\n",
    "n=clf.coef_\n",
    "b=clf.intercept_\n",
    "y_pred = clf.predict(new_x)\n",
    "\n",
    "j = 0\n",
    "for i in range(len(Y)):\n",
    "    if (y_pred[i] != Y[i]):\n",
    "        j += 1\n",
    "acc = (1 - (j/len(Y)))*100\n",
    "print(\"The accuracy with out normalizing of the model is: %.1f%%\" % (acc))\n",
    "\n",
    "\n",
    "\n",
    "h = .01\n",
    "X_train_array = X.to_numpy()\n",
    "y_train_array = Y.to_numpy() \n",
    "x_train_min, x_train_max = X_train_array[:, 0].min() -1 , X_train_array[:, 0].max() +1\n",
    "y_train_min, y_train_max = X_train_array[:, 1].min() -1 , X_train_array[:, 1].max() +1  \n",
    "\n",
    "xx, yy = np.meshgrid(np.arange(x_train_min, x_train_max, h),np.arange(y_train_min, y_train_max, h))"
   ]
  },
  {
   "cell_type": "code",
   "execution_count": 7,
   "metadata": {},
   "outputs": [
    {
     "data": {
      "image/png": "[encoded data removed]",
      "text/plain": [
       "<Figure size 432x288 with 1 Axes>"
      ]
     },
     "metadata": {
      "needs_background": "light"
     },
     "output_type": "display_data"
    }
   ],
   "source": [
    "Z=my_plot(b,n,xx,yy)\n",
    "\n",
    "Z = np.asarray(Z, dtype=np.float32)\n",
    "Z = Z.reshape(xx.shape)\n",
    "plt.scatter(X_train_array[:, 0], X_train_array[:, 1], c=Y)\n",
    "plt.contour(xx, yy, Z,levels=[0])\n",
    "plt.show()"
   ]
  },
  {
   "cell_type": "code",
   "execution_count": 11,
   "metadata": {},
   "outputs": [
    {
     "data": {
      "text/plain": [
       "array([1.1280414])"
      ]
     },
     "execution_count": 11,
     "metadata": {},
     "output_type": "execute_result"
    }
   ],
   "source": [
    "b"
   ]
  },
  {
   "cell_type": "code",
   "execution_count": 9,
   "metadata": {},
   "outputs": [
    {
     "data": {
      "text/plain": [
       "array([[ 0.59423191,  1.1368661 , -1.84353535, -0.91942036, -1.28755011,\n",
       "         0.12990871, -0.34583718, -0.34926112, -0.1782815 , -1.42024458,\n",
       "        -0.04473337, -0.59330763, -0.27180358, -1.1585927 , -0.243286  ,\n",
       "        -0.20038033, -0.04170846, -0.27007468, -0.28963332, -0.4563331 ,\n",
       "        -1.03758254,  0.03117316, -0.28956002,  0.01881594, -0.32212101,\n",
       "        -0.13981272, -0.91490479]])"
      ]
     },
     "execution_count": 9,
     "metadata": {},
     "output_type": "execute_result"
    }
   ],
   "source": [
    "n"
   ]
  }
 ],
 "metadata": {
  "kernelspec": {
   "display_name": "Python 3",
   "language": "python",
   "name": "python3"
  },
  "language_info": {
   "codemirror_mode": {
    "name": "ipython",
    "version": 3
   },
   "file_extension": ".py",
   "mimetype": "text/x-python",
   "name": "python",
   "nbconvert_exporter": "python",
   "pygments_lexer": "ipython3",
   "version": "3.7.4"
  }
 },
 "nbformat": 4,
 "nbformat_minor": 2
}
