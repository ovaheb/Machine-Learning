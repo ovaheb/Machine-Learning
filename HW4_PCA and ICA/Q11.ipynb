{
 "cells": [
  {
   "cell_type": "markdown",
   "metadata": {},
   "source": [
    "### Question 11:\n",
    "At first we import required libraries."
   ]
  },
  {
   "cell_type": "code",
   "execution_count": 1,
   "metadata": {},
   "outputs": [],
   "source": [
    "import numpy as np\n",
    "import pandas as pd\n",
    "import matplotlib.pyplot as plt\n",
    "from sklearn.decomposition import PCA\n",
    "from sklearn.metrics import accuracy_score\n",
    "from sklearn.naive_bayes import GaussianNB\n",
    "from sklearn.feature_selection import VarianceThreshold"
   ]
  },
  {
   "cell_type": "markdown",
   "metadata": {},
   "source": [
    "Now we load the dataset into train and test parts."
   ]
  },
  {
   "cell_type": "code",
   "execution_count": 14,
   "metadata": {},
   "outputs": [],
   "source": [
    "train_data = np.loadtxt('TinyMNIST/trainData.csv', dtype = np.float32, delimiter = ',')\n",
    "train_labels = np.loadtxt('TinyMNIST/trainLabels.csv', dtype = np.int32, delimiter = ',')\n",
    "test_data = np.loadtxt('TinyMNIST/testData.csv', dtype = np.float32, delimiter = ',')\n",
    "test_labels = np.loadtxt('TinyMNIST/testLabels.csv', dtype = np.int32, delimiter = ',')\n",
    "class_names = ['0', '1', '2', '3', '4', '5', '6', '7', '8', '9']"
   ]
  },
  {
   "cell_type": "markdown",
   "metadata": {},
   "source": [
    "Now we classify using a gaussian model and we get a bad accuracy around 51 percent."
   ]
  },
  {
   "cell_type": "code",
   "execution_count": 31,
   "metadata": {},
   "outputs": [
    {
     "name": "stdout",
     "output_type": "stream",
     "text": [
      "Accuracy before PCA : 50.68\n"
     ]
    }
   ],
   "source": [
    "clf = GaussianNB()\n",
    "clf.fit(train_data, train_labels)\n",
    "y_pred = clf.predict(test_data)\n",
    "score = accuracy_score(test_labels, y_pred) * 100\n",
    "print(\"Accuracy before PCA : %.2f\" %score)"
   ]
  },
  {
   "cell_type": "markdown",
   "metadata": {},
   "source": [
    "Now we plot eigenvalues or variances covered by each principal component."
   ]
  },
  {
   "cell_type": "code",
   "execution_count": 35,
   "metadata": {},
   "outputs": [],
   "source": [
    "pca = PCA(n_components = train_data.shape[1])\n",
    "pca.fit_transform(train_data)"
   ]
  },
  {
   "cell_type": "code",
   "execution_count": 36,
   "metadata": {},
   "outputs": [
    {
     "data": {
      "image/png": "[encoded data removed]",
      "text/plain": [
       "<Figure size 504x504 with 1 Axes>"
      ]
     },
     "metadata": {
      "needs_background": "light"
     },
     "output_type": "display_data"
    }
   ],
   "source": [
    "xs = np.array(range(1, train_data.shape[1] + 1))\n",
    "plt.figure(figsize = (7, 7))\n",
    "plt.plot(xs, pca.explained_variance_ratio_)\n",
    "plt.xlabel('Principal Component')\n",
    "plt.ylabel('Variance coverd by this PC')\n",
    "plt.title(\"Variance per principal component\")\n",
    "plt.show()"
   ]
  },
  {
   "cell_type": "markdown",
   "metadata": {},
   "source": [
    "It is obvious that 25 is the best number of components because variance stored in the next components is not worthy of the complexity that it adds to computation if we add them."
   ]
  },
  {
   "cell_type": "code",
   "execution_count": 37,
   "metadata": {},
   "outputs": [
    {
     "name": "stdout",
     "output_type": "stream",
     "text": [
      "Variance for the first 25 PCs : 0.7974\n"
     ]
    }
   ],
   "source": [
    "variance = 0\n",
    "for i in range(25):\n",
    "    variance = variance + pca.explained_variance_ratio_[i]\n",
    "print('Variance for the first 25 PCs : %.4f' %var)"
   ]
  },
  {
   "cell_type": "markdown",
   "metadata": {},
   "source": [
    "In the last step we print the variance of these 25 components and implement the gaussian model on the data after PCA algorithm. We can see that we achieved an acceptable accuracy of 81% by this simpe preprocess."
   ]
  },
  {
   "cell_type": "code",
   "execution_count": 40,
   "metadata": {},
   "outputs": [
    {
     "name": "stdout",
     "output_type": "stream",
     "text": [
      "Accuracy after PCA alghoritem with 25 PCs : 81.00\n"
     ]
    }
   ],
   "source": [
    "pca = PCA(n_components = 25)\n",
    "clf = GaussianNB()\n",
    "clf.fit(pca.fit_transform(train_data), train_labels)\n",
    "y_pred = clf.predict(pca.transform(test_data))\n",
    "score = accuracy_score(test_labels, y_pred) * 100\n",
    "print(\"Accuracy after PCA alghoritem with 25 PCs : %.2f\" %score)"
   ]
  }
 ],
 "metadata": {
  "kernelspec": {
   "display_name": "Python 3",
   "language": "python",
   "name": "python3"
  },
  "language_info": {
   "codemirror_mode": {
    "name": "ipython",
    "version": 3
   },
   "file_extension": ".py",
   "mimetype": "text/x-python",
   "name": "python",
   "nbconvert_exporter": "python",
   "pygments_lexer": "ipython3",
   "version": "3.7.4"
  }
 },
 "nbformat": 4,
 "nbformat_minor": 2
}
