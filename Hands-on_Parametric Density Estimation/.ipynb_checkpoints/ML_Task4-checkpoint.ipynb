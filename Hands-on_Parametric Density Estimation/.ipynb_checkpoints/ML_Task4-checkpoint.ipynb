{
 "cells": [
  {
   "cell_type": "markdown",
   "metadata": {},
   "source": [
    "![alt text](1.png \"Title\")"
   ]
  },
  {
   "cell_type": "code",
   "execution_count": 1,
   "metadata": {},
   "outputs": [],
   "source": [
    "import pandas as pd\n",
    "\n",
    "star_dataset = pd.read_csv('star_dataset.csv')\n",
    "\n",
    "star_dataset = star_dataset[(star_dataset['Spectral Class'] == 'B') | (star_dataset['Spectral Class'] == 'O')]\n",
    "\n",
    "star_dataset_2features = star_dataset[['Temperature (K)','Absolute magnitude(Mv)']]\n",
    "\n",
    "X_features = star_dataset_2features.to_numpy()"
   ]
  },
  {
   "cell_type": "markdown",
   "metadata": {},
   "source": [
    "### <font color=blue>1. Maximum Likelihood</font> ###\n",
    "\n",
    "__Report Mean and Covariance values for each class__"
   ]
  },
  {
   "cell_type": "code",
   "execution_count": 2,
   "metadata": {},
   "outputs": [],
   "source": [
    "\n",
    "X0 = star_dataset[(star_dataset['Spectral Class'] == 'B')]\n",
    "X0 = X0[['Temperature (K)','Absolute magnitude(Mv)']]\n",
    "X0 = X0.to_numpy()\n"
   ]
  },
  {
   "cell_type": "code",
   "execution_count": 3,
   "metadata": {
    "scrolled": true
   },
   "outputs": [
    {
     "name": "stdout",
     "output_type": "stream",
     "text": [
      "Covariance of X0 : [[ 3.75467284e+07 -2.67843319e+04]\n",
      " [-2.67843319e+04  7.51544584e+01]]\n",
      "\n",
      "\n",
      "Covariance of X1 : [[ 1.09342188e+08 -6.18115637e+02]\n",
      " [-6.18115637e+02  2.23654314e+00]]\n"
     ]
    }
   ],
   "source": [
    "from sklearn.covariance import empirical_covariance\n",
    "print(\"Covariance of X0 :\" ,empirical_covariance(X0))\n",
    "print(\"\\n\")\n",
    "X1 = star_dataset[(star_dataset['Spectral Class'] == 'O')]\n",
    "X1 = X1[['Temperature (K)','Absolute magnitude(Mv)']]\n",
    "X1 = X1.to_numpy()\n",
    "print(\"Covariance of X1 :\" ,empirical_covariance(X1))\n"
   ]
  },
  {
   "cell_type": "code",
   "execution_count": 4,
   "metadata": {},
   "outputs": [
    {
     "name": "stdout",
     "output_type": "stream",
     "text": [
      "μ = \n",
      "[1.95744783e+04 3.72260870e+00]\n",
      "Σ = \n",
      "[[ 3.75467284e+07 -2.67843319e+04]\n",
      " [-2.67843319e+04  7.51544584e+01]]\n",
      "μ = \n",
      "[ 2.2294075e+04 -6.5961750e+00]\n",
      "Σ = \n",
      "[[ 1.09342188e+08 -6.18115637e+02]\n",
      " [-6.18115637e+02  2.23654314e+00]]\n"
     ]
    }
   ],
   "source": [
    "from sklearn.covariance import EmpiricalCovariance\n",
    "cov = EmpiricalCovariance().fit(X0)\n",
    "print('\\u03BC = ', cov.location_, sep=\"\\n\")\n",
    "print('\\u03A3 = ', cov.covariance_, sep=\"\\n\")\n",
    "cov = EmpiricalCovariance().fit(X1)\n",
    "print('\\u03BC = ', cov.location_, sep=\"\\n\")\n",
    "print('\\u03A3 = ', cov.covariance_, sep=\"\\n\")"
   ]
  },
  {
   "cell_type": "code",
   "execution_count": 5,
   "metadata": {},
   "outputs": [
    {
     "name": "stdout",
     "output_type": "stream",
     "text": [
      "μ = \n",
      "[[1.95744783e+04 3.72260870e+00]]\n",
      "Σ = \n",
      "[[[ 3.75467284e+07 -2.67843319e+04]\n",
      "  [-2.67843319e+04  7.51544594e+01]]]\n",
      "μ = \n",
      "[[ 2.2294075e+04 -6.5961750e+00]]\n",
      "Σ = \n",
      "[[[ 1.09342188e+08 -6.18115637e+02]\n",
      "  [-6.18115637e+02  2.23654414e+00]]]\n"
     ]
    }
   ],
   "source": [
    "from sklearn import mixture\n",
    "\n",
    "gmm = mixture.GaussianMixture(n_components=1, covariance_type = 'full').fit(X0)\n",
    "print('\\u03BC = ', gmm.means_, sep=\"\\n\")\n",
    "print('\\u03A3 = ', gmm.covariances_, sep=\"\\n\")\n",
    "gmm = mixture.GaussianMixture(n_components=1, covariance_type = 'full').fit(X1)\n",
    "print('\\u03BC = ', gmm.means_, sep=\"\\n\")\n",
    "print('\\u03A3 = ', gmm.covariances_, sep=\"\\n\")"
   ]
  },
  {
   "cell_type": "markdown",
   "metadata": {},
   "source": [
    "### <font color=blue>2. Bayesian Density Estimation</font> ###\n",
    "__1. Report Mean and Covariance values for each class__<br>"
   ]
  },
  {
   "cell_type": "code",
   "execution_count": 6,
   "metadata": {},
   "outputs": [
    {
     "name": "stdout",
     "output_type": "stream",
     "text": [
      "μ = \n",
      "[ 2.08394070e+04 -1.07682558e+00]\n",
      "Σ = \n",
      "[[ 7.27800168e+07 -2.15955823e+04]\n",
      " [-2.15955823e+04  6.77289038e+01]]\n",
      "μ = \n",
      "[1.95744783e+04 3.72260870e+00]\n",
      "Σ = \n",
      "[[ 3.75467284e+07 -2.67843319e+04]\n",
      " [-2.67843319e+04  7.51544584e+01]]\n",
      "μ = \n",
      "[ 2.2294075e+04 -6.5961750e+00]\n",
      "Σ = \n",
      "[[ 1.09342188e+08 -6.18115637e+02]\n",
      " [-6.18115637e+02  2.23654314e+00]]\n"
     ]
    }
   ],
   "source": [
    "from sklearn.covariance import EmpiricalCovariance\n",
    "cov = EmpiricalCovariance().fit(X_features)\n",
    "print('\\u03BC = ', cov.location_, sep=\"\\n\")\n",
    "print('\\u03A3 = ', cov.covariance_, sep=\"\\n\")\n",
    "#for each class :\n",
    "cov = EmpiricalCovariance().fit(X0)\n",
    "print('\\u03BC = ', cov.location_, sep=\"\\n\")\n",
    "print('\\u03A3 = ', cov.covariance_, sep=\"\\n\")\n",
    "\n",
    "cov = EmpiricalCovariance().fit(X1)\n",
    "print('\\u03BC = ', cov.location_, sep=\"\\n\")\n",
    "print('\\u03A3 = ', cov.covariance_, sep=\"\\n\")"
   ]
  },
  {
   "cell_type": "markdown",
   "metadata": {},
   "source": [
    "### <font color=blue>3. Expectation Maximization</font> ###\n",
    "__1. Report Mean and Covariance values for each class__<br>\n",
    "__2. Plot the Clusters__"
   ]
  },
  {
   "cell_type": "code",
   "execution_count": 7,
   "metadata": {},
   "outputs": [
    {
     "name": "stdout",
     "output_type": "stream",
     "text": [
      "Converged True\n",
      "μ = \n",
      "[[1.95744783e+04 3.72260870e+00]]\n",
      "Σ = \n",
      "[[[ 3.75467284e+07 -2.67843319e+04]\n",
      "  [-2.67843319e+04  7.51544594e+01]]]\n",
      "Converged True\n",
      "μ = \n",
      "[[ 2.2294075e+04 -6.5961750e+00]]\n",
      "Σ = \n",
      "[[[ 1.09342188e+08 -6.18115637e+02]\n",
      "  [-6.18115637e+02  2.23654414e+00]]]\n"
     ]
    }
   ],
   "source": [
    "from sklearn.mixture import GaussianMixture\n",
    "EM = GaussianMixture(n_components=1, covariance_type='full').fit(X0)\n",
    "print(\"Converged\", EM.converged_)\n",
    "print('\\u03BC = ', EM.means_, sep=\"\\n\")\n",
    "print('\\u03A3 = ', EM.covariances_, sep=\"\\n\")\n",
    "\n",
    "EM = GaussianMixture(n_components=1, covariance_type='full').fit(X1)\n",
    "print(\"Converged\", EM.converged_)\n",
    "print('\\u03BC = ', EM.means_, sep=\"\\n\")\n",
    "print('\\u03A3 = ', EM.covariances_, sep=\"\\n\")"
   ]
  },
  {
   "cell_type": "code",
   "execution_count": 8,
   "metadata": {},
   "outputs": [
    {
     "data": {
      "image/png": "[encoded data removed]",
      "text/plain": [
       "<Figure size 720x432 with 1 Axes>"
      ]
     },
     "metadata": {
      "needs_background": "light"
     },
     "output_type": "display_data"
    }
   ],
   "source": [
    "from scipy.stats import multivariate_normal\n",
    "import matplotlib.pyplot as plt\n",
    "import numpy as np\n",
    "\n",
    "x,y = np.meshgrid(np.sort(X_features[:,0]), np.sort(X_features[:,1]))\n",
    "XY = np.array([x.flatten(), y.flatten()]).T\n",
    "\n",
    "fig = plt.figure(figsize= (10,6))\n",
    "ax0 = fig.add_subplot(111)\n",
    "ax0.scatter(X_features[:,0], X_features[:,1])\n",
    "for m,c in zip(EM.means_,EM.covariances_):\n",
    "    multi_normal = multivariate_normal(mean =m , cov = c)\n",
    "    ax0.contour(np.sort(X_features[:,0]), np.sort(X_features[:,1]), multi_normal.pdf(XY).reshape(len(X_features), len(X_features)))\n",
    "    ax0.scatter(m[0],m[1], c = 'blue', zorder=10,s=100)\n",
    "\n",
    "plt.show()    \n",
    "    \n",
    "    \n",
    "\n"
   ]
  },
  {
   "cell_type": "markdown",
   "metadata": {},
   "source": [
    "### <font color=blue>4. Gaussian HMM</font><br> ###\n",
    "\n",
    "__1. Write the Transition Matrix and Emission Matrix__<br><br>\n",
    "__2. What is the probability of <font color=green>Sunny, Rainy, Rainy, Rainy, Snowy, Snowy</font>? (No need to code!)__<br><br>\n",
    "__3. Suppose that a man wore <font color=green>Coat, Coat, Umbrella, Umbrella, T-shirt, Umbrella, Coat</font>. What is the most likely weather condition in these 7 consecutive days?__"
   ]
  },
  {
   "cell_type": "code",
   "execution_count": 13,
   "metadata": {},
   "outputs": [
    {
     "name": "stdout",
     "output_type": "stream",
     "text": [
      "Requirement already up-to-date: hmmlearn in c:\\users\\asus\\appdata\\roaming\\python\\python38\\site-packages (0.2.4.post4+g4ea11b0)\n",
      "Requirement already satisfied, skipping upgrade: scikit-learn>=0.16 in c:\\users\\asus\\anaconda3\\lib\\site-packages (from hmmlearn) (0.23.1)\n",
      "Requirement already satisfied, skipping upgrade: numpy>=1.10 in c:\\users\\asus\\anaconda3\\lib\\site-packages (from hmmlearn) (1.18.5)\n",
      "Requirement already satisfied, skipping upgrade: scipy>=0.19 in c:\\users\\asus\\anaconda3\\lib\\site-packages (from hmmlearn) (1.5.0)\n",
      "Requirement already satisfied, skipping upgrade: threadpoolctl>=2.0.0 in c:\\users\\asus\\anaconda3\\lib\\site-packages (from scikit-learn>=0.16->hmmlearn) (2.1.0)\n",
      "Requirement already satisfied, skipping upgrade: joblib>=0.11 in c:\\users\\asus\\anaconda3\\lib\\site-packages (from scikit-learn>=0.16->hmmlearn) (0.16.0)\n",
      "Note: you may need to restart the kernel to use updated packages.\n"
     ]
    }
   ],
   "source": [
    "pip install --upgrade --user hmmlearn"
   ]
  },
  {
   "cell_type": "code",
   "execution_count": 9,
   "metadata": {},
   "outputs": [
    {
     "name": "stdout",
     "output_type": "stream",
     "text": [
      "Collecting git+https://github.com/hmmlearn/hmmlearn\n",
      "  Cloning https://github.com/hmmlearn/hmmlearn to c:\\users\\asus\\appdata\\local\\temp\\pip-req-build-o8twtufo\n",
      "Requirement already satisfied (use --upgrade to upgrade): hmmlearn==0.2.4.post4+g4ea11b0 from git+https://github.com/hmmlearn/hmmlearn in c:\\users\\asus\\appdata\\roaming\\python\\python38\\site-packages\n",
      "Requirement already satisfied: numpy>=1.10 in c:\\users\\asus\\anaconda3\\lib\\site-packages (from hmmlearn==0.2.4.post4+g4ea11b0) (1.18.5)\n",
      "Requirement already satisfied: scikit-learn>=0.16 in c:\\users\\asus\\anaconda3\\lib\\site-packages (from hmmlearn==0.2.4.post4+g4ea11b0) (0.23.1)\n",
      "Requirement already satisfied: scipy>=0.19 in c:\\users\\asus\\anaconda3\\lib\\site-packages (from hmmlearn==0.2.4.post4+g4ea11b0) (1.5.0)\n",
      "Requirement already satisfied: threadpoolctl>=2.0.0 in c:\\users\\asus\\anaconda3\\lib\\site-packages (from scikit-learn>=0.16->hmmlearn==0.2.4.post4+g4ea11b0) (2.1.0)\n",
      "Requirement already satisfied: joblib>=0.11 in c:\\users\\asus\\anaconda3\\lib\\site-packages (from scikit-learn>=0.16->hmmlearn==0.2.4.post4+g4ea11b0) (0.16.0)\n",
      "Building wheels for collected packages: hmmlearn\n",
      "  Building wheel for hmmlearn (setup.py): started\n",
      "  Building wheel for hmmlearn (setup.py): finished with status 'done'\n",
      "  Created wheel for hmmlearn: filename=hmmlearn-0.2.4.post4+g4ea11b0-cp38-cp38-win_amd64.whl size=110896 sha256=b06b109782d199d5e63347abab53ce50cd4850be79d81f149276c493fa35a626\n",
      "  Stored in directory: C:\\Users\\Asus\\AppData\\Local\\Temp\\pip-ephem-wheel-cache-z6zdvie9\\wheels\\6e\\5c\\0a\\3723e3e0ece849baa8834f15296140af48ebef347142bf045d\n",
      "Successfully built hmmlearn\n",
      "Note: you may need to restart the kernel to use updated packages.\n"
     ]
    },
    {
     "name": "stderr",
     "output_type": "stream",
     "text": [
      "  Running command git clone -q https://github.com/hmmlearn/hmmlearn 'C:\\Users\\Asus\\AppData\\Local\\Temp\\pip-req-build-o8twtufo'\n"
     ]
    }
   ],
   "source": [
    "pip install --user git+https://github.com/hmmlearn/hmmlearn"
   ]
  },
  {
   "cell_type": "code",
   "execution_count": 16,
   "metadata": {},
   "outputs": [],
   "source": [
    "from hmmlearn import hmm\n",
    "states = [\"Sunny\", \"Rainy\", \"Snowy\"]\n",
    "n_states = len(states)\n",
    "\n",
    "observations = [\"T-shirt\", \"Coat\", \"Umbrella\"]\n",
    "n_observations = len(observations)"
   ]
  },
  {
   "cell_type": "code",
   "execution_count": 17,
   "metadata": {},
   "outputs": [],
   "source": [
    "model = hmm.MultinomialHMM(n_components = n_states, init_params = \"\", params = \"\")\n",
    "\n",
    "model.startprob_ = np.array([0.7 , 0.25 , 0.05])\n",
    "model.transmat_ =np.array([\n",
    "    [0.8 , 0.15 , 0.05] , [0.38, 0.6, 0.02], \n",
    "    [0.75 , 0.05 , 0.2]\n",
    "])\n",
    "model.emissionprob_ = np.array([\n",
    "    [0.6 , 0.3, 0.1],\n",
    "    [0.05 , 0.3 , 0.65],\n",
    "[0 , 0.5,0.5]\n",
    "])"
   ]
  },
  {
   "cell_type": "markdown",
   "metadata": {},
   "source": [
    "P(Sunny).P(Rainy|Sunny).P(Rainy|Rainy).P(Rainy|Rainy).P(Snowy|Rainy).P(Snowy|Snowy)\n",
    "= 0.7 * 0.15 * 0.6 * 0.6 * 0.02 * 0.2 = 0.0001512"
   ]
  },
  {
   "cell_type": "code",
   "execution_count": 22,
   "metadata": {},
   "outputs": [
    {
     "name": "stdout",
     "output_type": "stream",
     "text": [
      "Observations:  [[1 1 2 2 0 2 1]]\n",
      "States :  [1 1 1 1 0 0 0]\n",
      "Clothes  Coat, Coat, Umbrella, Umbrella, T-shirt, Umbrella, Coat\n",
      "The weather is (states)  : Rainy, Rainy, Snowy, Snowy, Sunny, Snowy, Rainy\n"
     ]
    }
   ],
   "source": [
    "sto = np.array([[1,1,2,2,0,2,1]]).T\n",
    "\n",
    "model = model.fit(sto)\n",
    "logprob , hs = model.decode(sto , algorithm = \"viterbi\")\n",
    "print(\"Observations: \" , sto.T )\n",
    "print(\"States : \" , hs)\n",
    "\n",
    "print(\"Clothes \", \", \".join(map(lambda x : observations[int(x)] ,sto)))\n",
    "print(\"The weather is (states)  :\", \", \".join(map(lambda x : states[int(x)] ,sto)))"
   ]
  }
 ],
 "metadata": {
  "kernelspec": {
   "display_name": "Python 3",
   "language": "python",
   "name": "python3"
  },
  "language_info": {
   "codemirror_mode": {
    "name": "ipython",
    "version": 3
   },
   "file_extension": ".py",
   "mimetype": "text/x-python",
   "name": "python",
   "nbconvert_exporter": "python",
   "pygments_lexer": "ipython3",
   "version": "3.7.4"
  }
 },
 "nbformat": 4,
 "nbformat_minor": 2
}
